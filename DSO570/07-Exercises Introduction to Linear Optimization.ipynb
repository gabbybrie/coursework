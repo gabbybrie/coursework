{
 "cells": [
  {
   "cell_type": "markdown",
   "id": "6cce4469-b3b0-4fcb-918c-6500506b951d",
   "metadata": {},
   "source": [
    "# Exercises for Week 7: Introduction to Linear Optimization\n"
   ]
  },
  {
   "cell_type": "markdown",
   "id": "e6e6f83b-4aa4-40e5-b9ea-90782df0a384",
   "metadata": {},
   "source": [
    "## Grading Scheme:\n",
    "Important: This Jupyter notebook needs to be completed and submitted via Blackboard before the due date to receive a non-zero grade.\n",
    "\n",
    "- 5: Every question is completed and the solution is essentially correct. This means that the math formulation correctly models the given problem and the code outputs the correct results. However, it is okay if the code returns another optimal solution that is equally good. \n",
    "- 4: Almost complete, but certain questions are blank, the code there does not run, or the output is clearly incorrect. For math formulations, this would be if the formulation is seriously flawed. \n",
    "- 3: This score will not be assigned, as everyone should strive to get 4 or 5.\n",
    "- 2: Not close to complete, but at least 50% complete.\n",
    "- 1: At least 10% complete, but less than 50% complete\n",
    "- 0: Less than 10% complete, or response is identical to someone else's, indicating plagiarism.\n",
    "\n",
    "A perfect score is 5. Note that your code does not need to be absolutely perfect to receive a 5, but you need to complete every question and ensure that the outputs are correct on all of the sample runs included here. Furthermore, you should double check that your math formulations make sense, by plugging in concrete numbers and verifying that the constraints are satisfied. \n",
    "\n",
    "These exercises are intended to be completed in 6-8 hours, including the individual-work time in class. You should budget at least this much time before the due date."
   ]
  },
  {
   "cell_type": "markdown",
   "id": "1ca0304c-e2f0-482b-b663-6100643a6eea",
   "metadata": {},
   "source": [
    "## Name: Gabrielle Felder"
   ]
  },
  {
   "cell_type": "markdown",
   "id": "8fb6184f-8e7f-4233-bf56-11c011ac3c59",
   "metadata": {},
   "source": [
    "## Exercise 7.1: Testing your Gurobi Installation\n",
    "\n",
    "Run the following code cell from the illustrative example at the beginning of Week 7, to see if it obtains the desired output."
   ]
  },
  {
   "cell_type": "code",
   "execution_count": 2,
   "id": "fbf0e626-d51f-4a01-aaf9-bd99da46bcf7",
   "metadata": {
    "tags": []
   },
   "outputs": [
    {
     "name": "stdout",
     "output_type": "stream",
     "text": [
      "Minimum # of books: 4.0\n",
      "Books to include:  [2, 3, 4, 9]\n"
     ]
    }
   ],
   "source": [
    "# Code to test your Gurobi installation\n",
    "B=range(1,11)\n",
    "G=['Literary','Sci-Fi','Romance','Thriller']\n",
    "booksInGenre={'Literary':[1,4,5,9],'Sci-Fi':[2,7,9],'Romance':[3,4,6,10],'Thriller':[2,3,8]}\n",
    "q={'Literary':2,'Sci-Fi':2,'Romance':2,'Thriller':2}\n",
    "from gurobipy import Model,GRB\n",
    "mod=Model()\n",
    "x=mod.addVars(B,vtype=GRB.BINARY)\n",
    "mod.setObjective(sum(x[b] for b in B))\n",
    "for g in G:\n",
    "    mod.addConstr(sum(x[b] for b in booksInGenre[g])>=q[g])\n",
    "mod.setParam('OutputFlag',False)\n",
    "mod.optimize()\n",
    "print('Minimum # of books:',mod.objval)\n",
    "print('Books to include: ',[b for b in B if x[b].x==1])"
   ]
  },
  {
   "cell_type": "code",
   "execution_count": 1,
   "id": "19cd16d1",
   "metadata": {},
   "outputs": [
    {
     "name": "stdout",
     "output_type": "stream",
     "text": [
      "Restricted license - for non-production use only - expires 2024-10-28\n",
      "Minimum # of books: 4.0\n",
      "Books to include:  [2, 3, 4, 9]\n"
     ]
    }
   ],
   "source": [
    "B=range(1,11)\n",
    "G=['Literary','Sci-Fi','Romance','Thriller']\n",
    "booksInGenre={'Literary':[1,4,5,9],'Sci-Fi':[2,7,9],'Romance':[3,4,6,10],'Thriller':[2,3,8]}\n",
    "q={'Literary':2,'Sci-Fi':2,'Romance':2,'Thriller':2}\n",
    "from gurobipy import Model,GRB\n",
    "mod=Model()\n",
    "x=mod.addVars(B,vtype=GRB.BINARY)\n",
    "mod.setObjective(sum(x[b] for b in B))\n",
    "for g in G:\n",
    "    mod.addConstr(sum(x[b] for b in booksInGenre[g])>=q[g])\n",
    "mod.setParam('OutputFlag',False)\n",
    "mod.optimize()\n",
    "print('Minimum # of books:',mod.objval)\n",
    "print('Books to include: ',[b for b in B if x[b].x==1])"
   ]
  },
  {
   "cell_type": "markdown",
   "id": "851d26db-23fc-4ca6-937e-7f42bf8161c1",
   "metadata": {},
   "source": [
    "## Exercise 7.2: Numerically Solving the GTC Production Planning LP\n",
    "\n",
    "Numerically solve the linear program from the in-class exercise using Gurobi. You may follow the \"template\" code for LP from last session, which is given immediately before the in-class exercise. Ignore the log \n",
    "that Gurobi prints out."
   ]
  },
  {
   "cell_type": "code",
   "execution_count": 4,
   "id": "000a1ed3-dfa1-483c-9b8d-027c777ec394",
   "metadata": {},
   "outputs": [
    {
     "name": "stdout",
     "output_type": "stream",
     "text": [
      "Gurobi Optimizer version 10.0.2 build v10.0.2rc0 (linux64)\n",
      "\n",
      "CPU model: Intel(R) Xeon(R) CPU E5-1603 v4 @ 2.80GHz, instruction set [SSE2|AVX|AVX2]\n",
      "Thread count: 4 physical cores, 4 logical processors, using up to 4 threads\n",
      "\n",
      "Optimize a model with 5 rows, 2 columns and 8 nonzeros\n",
      "Model fingerprint: 0x38ed76ab\n",
      "Coefficient statistics:\n",
      "  Matrix range     [3e-01, 2e+00]\n",
      "  Objective range  [1e-01, 1e-01]\n",
      "  Bounds range     [0e+00, 0e+00]\n",
      "  RHS range        [9e+03, 3e+04]\n",
      "Presolve removed 2 rows and 0 columns\n",
      "Presolve time: 0.01s\n",
      "Presolved: 3 rows, 2 columns, 6 nonzeros\n",
      "\n",
      "Iteration    Objective       Primal Inf.    Dual Inf.      Time\n",
      "       0    3.5100000e+03   3.375000e+03   0.000000e+00      0s\n",
      "       3    2.5050000e+03   0.000000e+00   0.000000e+00      0s\n",
      "\n",
      "Solved in 3 iterations and 0.01 seconds (0.00 work units)\n",
      "Optimal objective  2.505000000e+03\n",
      "\n",
      "Optimal profit: 2505.0\n",
      "Optimal production plan W=7500.0 P=13500.0\n"
     ]
    }
   ],
   "source": [
    "# Sample Output (Only pay attention to the last two rows)\n",
    "# It's fine if your code returns a different solution with the same objective value."
   ]
  },
  {
   "cell_type": "code",
   "execution_count": 2,
   "id": "e349f572-64b3-4317-84ff-2e9036257465",
   "metadata": {},
   "outputs": [
    {
     "name": "stdout",
     "output_type": "stream",
     "text": [
      "Gurobi Optimizer version 10.0.3 build v10.0.3rc0 (mac64[x86])\n",
      "\n",
      "CPU model: Intel(R) Core(TM) i5-8210Y CPU @ 1.60GHz\n",
      "Thread count: 2 physical cores, 4 logical processors, using up to 4 threads\n",
      "\n",
      "Optimize a model with 5 rows, 2 columns and 8 nonzeros\n",
      "Model fingerprint: 0x38ed76ab\n",
      "Coefficient statistics:\n",
      "  Matrix range     [3e-01, 2e+00]\n",
      "  Objective range  [1e-01, 1e-01]\n",
      "  Bounds range     [0e+00, 0e+00]\n",
      "  RHS range        [9e+03, 3e+04]\n",
      "Presolve removed 2 rows and 0 columns\n",
      "Presolve time: 0.02s\n",
      "Presolved: 3 rows, 2 columns, 6 nonzeros\n",
      "\n",
      "Iteration    Objective       Primal Inf.    Dual Inf.      Time\n",
      "       0    3.5100000e+03   3.375000e+03   0.000000e+00      0s\n",
      "       3    2.5050000e+03   0.000000e+00   0.000000e+00      0s\n",
      "\n",
      "Solved in 3 iterations and 0.04 seconds (0.00 work units)\n",
      "Optimal objective  2.505000000e+03\n",
      "\n",
      "Optimal profit: 2505.0\n",
      "Optimal production plan W=7500.0 P=13500.0\n"
     ]
    }
   ],
   "source": [
    "# Write your code here\n",
    "from gurobipy import Model, GRB\n",
    "mod = Model()\n",
    "W = mod.addVar()\n",
    "P = mod.addVar()\n",
    "mod.setObjective(0.1*W + 0.13*P, sense=GRB.MAXIMIZE)\n",
    "mod.addConstr(1.5*W + P <= 27000)\n",
    "mod.addConstr(W + P <= 21000)\n",
    "mod.addConstr(.3*W +.5* P <= 9000)\n",
    "mod.addConstr(W <= 16000)\n",
    "mod.addConstr(P <= 15000)\n",
    "mod.optimize()\n",
    "print()\n",
    "print('Optimal profit:', mod.objval)\n",
    "print(f'Optimal production plan W={W.x} P={P.x}')\n"
   ]
  },
  {
   "cell_type": "markdown",
   "id": "bfb269f5-8b10-4f51-92e6-cdb7d947eef4",
   "metadata": {},
   "source": [
    "## Exercise 7.3: Typesetting the GTC Production Planning LP\n",
    "\n",
    "Typeset the GTC Production Planning LP from the In-Class Exercise in the following Markdown cell using Latex. "
   ]
  },
  {
   "cell_type": "markdown",
   "id": "ec97e24d",
   "metadata": {},
   "source": [
    "**Decision:**\n",
    "\n",
    "- $W$: the amount of wrenches to produce in a day\n",
    "- $P$: the amount of pliers to produce in a day\n",
    "\n",
    "**Objective:**\n",
    "$$\\text{Maximize:} \\qquad 0.1W + 0.13P$$\n",
    "\n",
    "**Constraints**\n",
    "$$\\begin{aligned}\n",
    "\\text{Steel} && 1.5W+P & \\le 27000 \\\\ \n",
    "\\text{Molding Machine} && W+P & \\le 21000 \\\\ \n",
    "\\text{Assembly Machine} && 0.3W+0.5P & \\le 9000 \\\\ \n",
    "\\text{Demand for Wrench} && W & \\le 16000 \\\\ \n",
    "\\text{Demand for Pliers} && P & \\le 15000 \\\\ \n",
    "\\text{Non-Negative} && W,P & \\ge 0 \\\\ \n",
    "\\end{aligned}$$"
   ]
  },
  {
   "cell_type": "markdown",
   "id": "299aa9f3-871b-4bd1-a0cc-41cfcf33e9bf",
   "metadata": {},
   "source": [
    "## Exercise 7.4: Production Planning\n",
    "\n",
    "The Magnetron Company manufactures and markets microwave ovens. Currently, the company produces two models: full-size and compact. Production is limited by the amount of labor available in the general assembly and electronic assembly departments, as well as by the demand for each model. Each full-size oven requires 2 hours of general assembly and 2 hours of electronic assembly, whereas each compact oven requires 1 hour of general assembly and 3 hours of electronic assembly. In the current production period, there are 500 hours of general assembly labor available and 800 hours of electronic assembly labor available. \n",
    "\n",
    "In additional, the company estimates that it can sell at most 220 full-size ovens and 180 compact ovens in the current production period. The earnings contribution per oven is 120 dollars for a full-size oven and 130 dollars for a compact oven. The company would like to find an earnings-maximizing production plan for the current production period. \n",
    "\n",
    "**a)** Succintly describe the decision, objective and constraints in English."
   ]
  },
  {
   "cell_type": "markdown",
   "id": "de773fca-f438-4b97-8d07-44c7fbdb6099",
   "metadata": {},
   "source": [
    "**Decision:** \n",
    "- how many full size and compact microwave ovens to produce\n",
    "\n",
    "**Objective:**\n",
    "- maximize earnings for full size and compact microwave ovens\n",
    "\n",
    "**Constraints:** \n",
    "- the total labor available for general assembly is 500 hours\n",
    "- the total labor available for electronic assembly is 800 hours\n",
    "- each full size oven requires 2 hours of general assembly and 2 hours of electronic assembly\n",
    "- each compact oven requires 1 hour of geneal assembly and 3 hours of electronic assembly\n",
    "- the company sells at most 220 full size ovens in a production period\n",
    "- the company sells 180 compact ovens in a production period\n",
    "\n"
   ]
  },
  {
   "cell_type": "markdown",
   "id": "32b1b3fd-13f1-4a72-bb87-966ddbc153c0",
   "metadata": {},
   "source": [
    "**b)** Translate the above English description into a concrete formulation of a linear optimization problem."
   ]
  },
  {
   "cell_type": "markdown",
   "id": "a91ee36d-626b-4d75-984f-52053adee074",
   "metadata": {},
   "source": [
    "**Decision variables:** \n",
    "- $F$: the number of full size ovens sold\n",
    "- $C$: the number of compact ovens sold\n",
    "\n",
    "**Objective:**\n",
    "$$\\text{Maximize:} \\qquad 120F + 130C$$\n",
    "\n",
    "\n",
    "\n",
    "**Constraints:**\n",
    "\n",
    "$$\\begin{aligned}\n",
    "\\text{General Assembly} && 2F+C & \\le 500 \\\\ \n",
    "\\text{Electric Assembly} && 2F+3C & \\le 800 \\\\ \n",
    "\\text{Full-size Demand} && F & \\le 220 \\\\ \n",
    "\\text{Compact Demand} && C & \\le 180 \\\\ \n",
    "\\text{Non-Negative} && F,C & \\ge 0 \\\\ \n",
    "\\end{aligned}$$\n",
    "\n"
   ]
  },
  {
   "cell_type": "markdown",
   "id": "4d86a35d-ba43-4486-acff-707472d20017",
   "metadata": {},
   "source": [
    "**c)** Solve your formulation numerically using Gurobi."
   ]
  },
  {
   "cell_type": "code",
   "execution_count": 5,
   "id": "288cfe44-b5b4-49e1-82ba-021fd27038cd",
   "metadata": {
    "tags": []
   },
   "outputs": [
    {
     "name": "stdout",
     "output_type": "stream",
     "text": [
      "Gurobi Optimizer version 10.0.2 build v10.0.2rc0 (linux64)\n",
      "\n",
      "CPU model: Intel(R) Xeon(R) CPU E5-1603 v4 @ 2.80GHz, instruction set [SSE2|AVX|AVX2]\n",
      "Thread count: 4 physical cores, 4 logical processors, using up to 4 threads\n",
      "\n",
      "Optimize a model with 2 rows, 2 columns and 4 nonzeros\n",
      "Model fingerprint: 0x4fb5f5bf\n",
      "Coefficient statistics:\n",
      "  Matrix range     [1e+00, 3e+00]\n",
      "  Objective range  [1e+02, 1e+02]\n",
      "  Bounds range     [2e+02, 2e+02]\n",
      "  RHS range        [5e+02, 8e+02]\n",
      "Presolve time: 0.00s\n",
      "Presolved: 2 rows, 2 columns, 4 nonzeros\n",
      "\n",
      "Iteration    Objective       Primal Inf.    Dual Inf.      Time\n",
      "       0    6.5000000e+04   1.237500e+02   0.000000e+00      0s\n",
      "       2    4.0500000e+04   0.000000e+00   0.000000e+00      0s\n",
      "\n",
      "Solved in 2 iterations and 0.01 seconds (0.00 work units)\n",
      "Optimal objective  4.050000000e+04\n",
      "\n",
      "Optimal solution\n",
      "Maximum earnings 40500.0\n",
      "F=175.0 C=150.0\n"
     ]
    }
   ],
   "source": [
    "# Sample Output (Only pay attention to the last three rows)\n",
    "# It's fine if your code returns a different solution with the same objective value."
   ]
  },
  {
   "cell_type": "code",
   "execution_count": 5,
   "id": "5a39dd5f-b83a-4bc7-8ccc-e84fcb3c6e20",
   "metadata": {},
   "outputs": [
    {
     "name": "stdout",
     "output_type": "stream",
     "text": [
      "Gurobi Optimizer version 10.0.3 build v10.0.3rc0 (mac64[x86])\n",
      "\n",
      "CPU model: Intel(R) Core(TM) i5-8210Y CPU @ 1.60GHz\n",
      "Thread count: 2 physical cores, 4 logical processors, using up to 4 threads\n",
      "\n",
      "Optimize a model with 4 rows, 2 columns and 6 nonzeros\n",
      "Model fingerprint: 0x3281681c\n",
      "Coefficient statistics:\n",
      "  Matrix range     [1e+00, 3e+00]\n",
      "  Objective range  [1e+02, 1e+02]\n",
      "  Bounds range     [0e+00, 0e+00]\n",
      "  RHS range        [2e+02, 8e+02]\n",
      "Presolve removed 2 rows and 0 columns\n",
      "Presolve time: 0.01s\n",
      "Presolved: 2 rows, 2 columns, 4 nonzeros\n",
      "\n",
      "Iteration    Objective       Primal Inf.    Dual Inf.      Time\n",
      "       0    6.5000000e+04   1.237500e+02   0.000000e+00      0s\n",
      "       2    4.0500000e+04   0.000000e+00   0.000000e+00      0s\n",
      "\n",
      "Solved in 2 iterations and 0.03 seconds (0.00 work units)\n",
      "Optimal objective  4.050000000e+04\n",
      "Optimal solution\n",
      "Maximum earnings 40500.0\n",
      "F = 175.0 C = 150.0\n"
     ]
    }
   ],
   "source": [
    "# Write your code here\n",
    "from gurobi import Model, GRB\n",
    "mod=Model()\n",
    "F=mod.addVar()\n",
    "C=mod.addVar()\n",
    "mod.setObjective(120*F + 130*C, sense=GRB.MAXIMIZE)\n",
    "mod.addConstr(2*F + C <= 500)\n",
    "mod.addConstr(2*F + 3*C <= 800)\n",
    "mod.addConstr(F <= 220)\n",
    "mod.addConstr(C <= 180)\n",
    "mod.optimize()\n",
    "print(f'Optimal solution')\n",
    "print(f'Maximum earnings {mod.objVal}')\n",
    "print(f'F = {F.x} C = {C.x}')\n",
    "\n",
    "\n"
   ]
  },
  {
   "cell_type": "markdown",
   "id": "d96755b1-56b6-48f6-9783-7297c9266ab2",
   "metadata": {},
   "source": [
    "## Exercise 7.5: Portfolio Planning\n",
    "\n",
    "An investor would like to construct an optimal portfolio consisting of five possible funds. (A portfolio consists of a certain amount of money in each fund.) The five funds and their respective fund categories, risk levels, and percentage annual returns are shown below. \n",
    "\n",
    "| Fund | Category | Risk Level | Percentage Annual Return |\n",
    "|--|--|--|--|\n",
    "| A | Money Market | 1 | 4.50\\% |\n",
    "| B | Money Market | 2 | 5.62 \\% |\n",
    "| C | Bond | 2 | 6.80\\% |\n",
    "| D | Bond | 3 | 10.15\\% |\n",
    "| E | Aggressive Growth | 5 | 20.60\\% |\n",
    "\n",
    "The risk level of each fund is rated on a scale of 1 to 5, where 1 is very conservative and 5 is very risky. The investor would like to maximize the total monetary amount earned subject to the following restrictions: \n",
    "\n",
    "1. The average risk level of the entire investment should not exceed 2.5. (The average here is weighted by the amount of money in each fund. For example, if the entire investment consists of 7500 in C and 1000 in D, then the average risk level is $(7500 \\times 2 + 1000 \\times 3)/(7500+1000) \\approx 2.12$.)\n",
    "\n",
    "2. At least 30\\% of the money invetsed should be placed in money market funds.\n",
    "\n",
    "3. At most 2,000 dollars should be invested in the aggressive growth fund.\n",
    "\n",
    "4. The total amount of initial investment should be between 5,000 and 10,000 dollars (inclusive).\n",
    "\n",
    "**a)** Succintly describe the decision, objective and constraints in English."
   ]
  },
  {
   "cell_type": "markdown",
   "id": "17536385-e8c1-4117-8add-2c7e9192a8aa",
   "metadata": {},
   "source": [
    "**Decision:** \n",
    "- how much of each fund to buy\n",
    "\n",
    "**Objective:**\n",
    "- maximize total amount earned\n",
    "\n",
    "**Constraints:**\n",
    "- the average risdk of the entire investment should not exceed 2.5\n",
    "- at least 30% of the money invested should be placed in money market funds\n",
    "- at most 2000 dollars should be invested in the aggressive growth fund\n",
    "- the total amount of initial investment should be between 5000 and 10000 dollars\n",
    "\n",
    "\n"
   ]
  },
  {
   "cell_type": "markdown",
   "id": "9ed6e646-7f9d-4eb9-9c53-dc799d6f2051",
   "metadata": {},
   "source": [
    "**b)** Translate the above English description into a concrete formulation of a linear optimization problem. **Note that you must transform all non-linear constraints into a linear form (see Section 7.3).**"
   ]
  },
  {
   "cell_type": "markdown",
   "id": "dfd2dabd-f2a3-41ae-acb0-e0eee24d8572",
   "metadata": {},
   "source": [
    "**Decision variables:** \n",
    "- $A$: money market fund\n",
    "- $B$: money market fund\n",
    "- $C$: bond\n",
    "- $D$: bond\n",
    "- $E$: aggressive growth fund\n",
    "\n",
    "**Objective:**\n",
    "$$\\text{Maximize:} \\qquad 0.045A + 0.0562B + 0.068C + 0.1015D + 0.2060E$$\n",
    "\n",
    "\n",
    "\n",
    "**Constraints:**\n",
    "\n",
    "$$\\begin{aligned}\n",
    "\\text{Average Risk} && A + 2B + 2C +3D +5E & \\le 2.5(A+B+C+D+E) \\\\ \n",
    "\\text{Market Fund Investment} && A + B & \\ge 0.3(A+B+C+D+E) \\\\ \n",
    "\\text{Aggressive Growth Fund Investment} && E & \\le 2000 \\\\ \n",
    "\\text{Investment Minimum} && A+B+C+D+E & \\ge 5000 \\\\ \n",
    "\\text{Investment Maximum} && A+B+C+D+E & \\le 10000 \\\\ \n",
    "\\text{Non-Negative} && A,B,C,D,E & \\ge 0 \\\\ \n",
    "\\end{aligned}$$\n",
    "\n",
    "\n",
    "\n"
   ]
  },
  {
   "cell_type": "markdown",
   "id": "f9e77342-35e6-4c1b-89a8-2831b2ef52e7",
   "metadata": {},
   "source": [
    "**c)** Solve your formulation numerically using Gurobi."
   ]
  },
  {
   "cell_type": "code",
   "execution_count": 6,
   "id": "b5347ce1-9584-4047-a17f-8c6d89c178b2",
   "metadata": {
    "tags": []
   },
   "outputs": [
    {
     "name": "stdout",
     "output_type": "stream",
     "text": [
      "Gurobi Optimizer version 10.0.2 build v10.0.2rc0 (linux64)\n",
      "\n",
      "CPU model: Intel(R) Xeon(R) CPU E5-1603 v4 @ 2.80GHz, instruction set [SSE2|AVX|AVX2]\n",
      "Thread count: 4 physical cores, 4 logical processors, using up to 4 threads\n",
      "\n",
      "Optimize a model with 5 rows, 5 columns and 21 nonzeros\n",
      "Model fingerprint: 0xb5365cae\n",
      "Coefficient statistics:\n",
      "  Matrix range     [3e-01, 2e+00]\n",
      "  Objective range  [4e+00, 2e+01]\n",
      "  Bounds range     [0e+00, 0e+00]\n",
      "  RHS range        [2e+03, 1e+04]\n",
      "Presolve removed 2 rows and 0 columns\n",
      "Presolve time: 0.00s\n",
      "Presolved: 3 rows, 5 columns, 15 nonzeros\n",
      "\n",
      "Iteration    Objective       Primal Inf.    Dual Inf.      Time\n",
      "       0    2.0600000e+05   4.312500e+03   0.000000e+00      0s\n",
      "       4    9.6975000e+04   0.000000e+00   0.000000e+00      0s\n",
      "\n",
      "Solved in 4 iterations and 0.01 seconds (0.00 work units)\n",
      "Optimal objective  9.697500000e+04\n",
      "\n",
      "Optimal solution:\n",
      "Maximum monetary amount earned: 96975.0\n",
      "A=4500.0 B=0.0 C=0.0 D=3500.0 E=2000.0\n"
     ]
    }
   ],
   "source": [
    "# Sample Output (Only pay attention to the last three rows)\n",
    "# It's fine if your code returns a different solution with the same objective value."
   ]
  },
  {
   "cell_type": "code",
   "execution_count": 10,
   "id": "0dcdd382-412c-40cb-a3a8-978dff777a6a",
   "metadata": {},
   "outputs": [
    {
     "name": "stdout",
     "output_type": "stream",
     "text": [
      "Gurobi Optimizer version 10.0.3 build v10.0.3rc0 (mac64[x86])\n",
      "\n",
      "CPU model: Intel(R) Core(TM) i5-8210Y CPU @ 1.60GHz\n",
      "Thread count: 2 physical cores, 4 logical processors, using up to 4 threads\n",
      "\n",
      "Optimize a model with 5 rows, 5 columns and 21 nonzeros\n",
      "Model fingerprint: 0x4cf64b93\n",
      "Coefficient statistics:\n",
      "  Matrix range     [3e-01, 2e+00]\n",
      "  Objective range  [4e-02, 2e-01]\n",
      "  Bounds range     [0e+00, 0e+00]\n",
      "  RHS range        [2e+03, 1e+04]\n",
      "Presolve removed 2 rows and 0 columns\n",
      "Presolve time: 0.02s\n",
      "Presolved: 3 rows, 5 columns, 15 nonzeros\n",
      "\n",
      "Iteration    Objective       Primal Inf.    Dual Inf.      Time\n",
      "       0    2.0600000e+03   4.312500e+03   0.000000e+00      0s\n",
      "       4    9.6975000e+02   0.000000e+00   0.000000e+00      0s\n",
      "\n",
      "Solved in 4 iterations and 0.04 seconds (0.00 work units)\n",
      "Optimal objective  9.697500000e+02\n",
      "Optimal solution\n",
      "Maximum monetary amount earned: 969.75\n",
      "A = 4500.0 B = 0.0 C = 0.0 D = 3500.0 E = 2000.0\n"
     ]
    }
   ],
   "source": [
    "# Write your code here\n",
    "\n",
    "from gurobi import Model, GRB\n",
    "mod=Model()\n",
    "A=mod.addVar()\n",
    "B=mod.addVar()\n",
    "C=mod.addVar()\n",
    "D=mod.addVar()\n",
    "E=mod.addVar()\n",
    "mod.setObjective(0.045*A +0.0562*B + 0.068*C + 0.1015*D + 0.2060*E, sense=GRB.MAXIMIZE)\n",
    "mod.addConstr(E <= 2000)\n",
    "mod.addConstr(A + B >= 0.3*(A+B+C+D+E))\n",
    "mod.addConstr((A+B+C+D+E) >= 5000)\n",
    "mod.addConstr((A+B+C+D+E) <= 10000)\n",
    "mod.addConstr((A+2*B+2*C+3*D+5*E)<= 2.5*(A+B+C+D+E))\n",
    "mod.optimize()\n",
    "print(f'Optimal solution')\n",
    "print(f'Maximum monetary amount earned: {mod.objVal}')\n",
    "print(f'A = {A.x} B = {B.x} C = {C.x} D = {D.x} E = {E.x}')\n",
    "\n",
    "\n"
   ]
  }
 ],
 "metadata": {
  "kernelspec": {
   "display_name": "py3k",
   "language": "python",
   "name": "python3"
  },
  "language_info": {
   "codemirror_mode": {
    "name": "ipython",
    "version": 3
   },
   "file_extension": ".py",
   "mimetype": "text/x-python",
   "name": "python",
   "nbconvert_exporter": "python",
   "pygments_lexer": "ipython3",
   "version": "3.11.4"
  }
 },
 "nbformat": 4,
 "nbformat_minor": 5
}
